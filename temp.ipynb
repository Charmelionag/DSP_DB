{
 "cells": [
  {
   "cell_type": "code",
   "execution_count": 1,
   "metadata": {},
   "outputs": [],
   "source": [
    "import pandas as pd\n",
    "pd.set_option('display.max_columns', None)"
   ]
  },
  {
   "cell_type": "code",
   "execution_count": 2,
   "metadata": {},
   "outputs": [
    {
     "name": "stderr",
     "output_type": "stream",
     "text": [
      "/var/folders/53/kjtpb3yd50l_0wd__m7cm_7m0000gn/T/ipykernel_5821/3746114537.py:1: DtypeWarning: Columns (19,24,25,27,29,30,31,32,33,34,42) have mixed types. Specify dtype option on import or set low_memory=False.\n",
      "  df = pd.read_csv('temp.csv', sep=',')\n"
     ]
    }
   ],
   "source": [
    "df = pd.read_csv('temp.csv', sep=',')"
   ]
  },
  {
   "cell_type": "code",
   "execution_count": 3,
   "metadata": {},
   "outputs": [
    {
     "data": {
      "text/html": [
       "<div>\n",
       "<style scoped>\n",
       "    .dataframe tbody tr th:only-of-type {\n",
       "        vertical-align: middle;\n",
       "    }\n",
       "\n",
       "    .dataframe tbody tr th {\n",
       "        vertical-align: top;\n",
       "    }\n",
       "\n",
       "    .dataframe thead th {\n",
       "        text-align: right;\n",
       "    }\n",
       "</style>\n",
       "<table border=\"1\" class=\"dataframe\">\n",
       "  <thead>\n",
       "    <tr style=\"text-align: right;\">\n",
       "      <th></th>\n",
       "      <th>Unnamed: 0</th>\n",
       "      <th>Code service sages</th>\n",
       "      <th>Reference document</th>\n",
       "      <th>1 Articles CGI</th>\n",
       "      <th>2 Articles CGI</th>\n",
       "      <th>3 Articles CGI</th>\n",
       "      <th>4 Articles CGI</th>\n",
       "      <th>5 Articles CGI</th>\n",
       "      <th>No disposition</th>\n",
       "      <th>Date mutation</th>\n",
       "      <th>Nature mutation</th>\n",
       "      <th>Valeur fonciere</th>\n",
       "      <th>No voie</th>\n",
       "      <th>B/T/Q</th>\n",
       "      <th>Type de voie</th>\n",
       "      <th>Code voie</th>\n",
       "      <th>Voie</th>\n",
       "      <th>Code postal</th>\n",
       "      <th>Commune</th>\n",
       "      <th>Code departement</th>\n",
       "      <th>Code commune</th>\n",
       "      <th>Prefixe de section</th>\n",
       "      <th>Section</th>\n",
       "      <th>No plan</th>\n",
       "      <th>No Volume</th>\n",
       "      <th>1er lot</th>\n",
       "      <th>Surface Carrez du 1er lot</th>\n",
       "      <th>2eme lot</th>\n",
       "      <th>Surface Carrez du 2eme lot</th>\n",
       "      <th>3eme lot</th>\n",
       "      <th>Surface Carrez du 3eme lot</th>\n",
       "      <th>4eme lot</th>\n",
       "      <th>Surface Carrez du 4eme lot</th>\n",
       "      <th>5eme lot</th>\n",
       "      <th>Surface Carrez du 5eme lot</th>\n",
       "      <th>Nombre de lots</th>\n",
       "      <th>Code type local</th>\n",
       "      <th>Type local</th>\n",
       "      <th>Identifiant local</th>\n",
       "      <th>Surface reelle bati</th>\n",
       "      <th>Nombre pieces principales</th>\n",
       "      <th>Nature culture</th>\n",
       "      <th>Nature culture speciale</th>\n",
       "      <th>Surface terrain</th>\n",
       "    </tr>\n",
       "  </thead>\n",
       "  <tbody>\n",
       "    <tr>\n",
       "      <th>0</th>\n",
       "      <td>0</td>\n",
       "      <td>NaN</td>\n",
       "      <td>NaN</td>\n",
       "      <td>NaN</td>\n",
       "      <td>NaN</td>\n",
       "      <td>NaN</td>\n",
       "      <td>NaN</td>\n",
       "      <td>NaN</td>\n",
       "      <td>1</td>\n",
       "      <td>04/07/2017</td>\n",
       "      <td>Vente</td>\n",
       "      <td>166100,00</td>\n",
       "      <td>843.0</td>\n",
       "      <td>NaN</td>\n",
       "      <td>RUE</td>\n",
       "      <td>0100</td>\n",
       "      <td>DE LA CHARPINE</td>\n",
       "      <td>1000.0</td>\n",
       "      <td>SAINT-DENIS-LES-BOURG</td>\n",
       "      <td>1</td>\n",
       "      <td>344</td>\n",
       "      <td>NaN</td>\n",
       "      <td>AK</td>\n",
       "      <td>534</td>\n",
       "      <td>NaN</td>\n",
       "      <td>NaN</td>\n",
       "      <td>NaN</td>\n",
       "      <td>NaN</td>\n",
       "      <td>NaN</td>\n",
       "      <td>NaN</td>\n",
       "      <td>NaN</td>\n",
       "      <td>NaN</td>\n",
       "      <td>NaN</td>\n",
       "      <td>NaN</td>\n",
       "      <td>NaN</td>\n",
       "      <td>0</td>\n",
       "      <td>1.0</td>\n",
       "      <td>Maison</td>\n",
       "      <td>NaN</td>\n",
       "      <td>73.0</td>\n",
       "      <td>4.0</td>\n",
       "      <td>S</td>\n",
       "      <td>NaN</td>\n",
       "      <td>391.0</td>\n",
       "    </tr>\n",
       "  </tbody>\n",
       "</table>\n",
       "</div>"
      ],
      "text/plain": [
       "   Unnamed: 0  Code service sages  Reference document  1 Articles CGI  \\\n",
       "0           0                 NaN                 NaN             NaN   \n",
       "\n",
       "   2 Articles CGI  3 Articles CGI  4 Articles CGI  5 Articles CGI  \\\n",
       "0             NaN             NaN             NaN             NaN   \n",
       "\n",
       "   No disposition Date mutation Nature mutation Valeur fonciere  No voie  \\\n",
       "0               1    04/07/2017           Vente       166100,00    843.0   \n",
       "\n",
       "  B/T/Q Type de voie Code voie            Voie  Code postal  \\\n",
       "0   NaN          RUE      0100  DE LA CHARPINE       1000.0   \n",
       "\n",
       "                 Commune Code departement  Code commune  Prefixe de section  \\\n",
       "0  SAINT-DENIS-LES-BOURG                1           344                 NaN   \n",
       "\n",
       "  Section  No plan No Volume 1er lot Surface Carrez du 1er lot 2eme lot  \\\n",
       "0      AK      534       NaN     NaN                       NaN      NaN   \n",
       "\n",
       "  Surface Carrez du 2eme lot 3eme lot Surface Carrez du 3eme lot 4eme lot  \\\n",
       "0                        NaN      NaN                        NaN      NaN   \n",
       "\n",
       "  Surface Carrez du 4eme lot 5eme lot Surface Carrez du 5eme lot  \\\n",
       "0                        NaN      NaN                        NaN   \n",
       "\n",
       "   Nombre de lots  Code type local Type local  Identifiant local  \\\n",
       "0               0              1.0     Maison                NaN   \n",
       "\n",
       "   Surface reelle bati  Nombre pieces principales Nature culture  \\\n",
       "0                 73.0                        4.0              S   \n",
       "\n",
       "  Nature culture speciale  Surface terrain  \n",
       "0                     NaN            391.0  "
      ]
     },
     "execution_count": 3,
     "metadata": {},
     "output_type": "execute_result"
    }
   ],
   "source": [
    "df.head(1)"
   ]
  },
  {
   "cell_type": "markdown",
   "metadata": {},
   "source": [
    "### DATA EXPLO"
   ]
  },
  {
   "cell_type": "code",
   "execution_count": 4,
   "metadata": {},
   "outputs": [
    {
     "name": "stdout",
     "output_type": "stream",
     "text": [
      "<class 'pandas.core.frame.DataFrame'>\n",
      "RangeIndex: 18036812 entries, 0 to 18036811\n",
      "Data columns (total 44 columns):\n",
      " #   Column                      Dtype  \n",
      "---  ------                      -----  \n",
      " 0   Unnamed: 0                  int64  \n",
      " 1   Code service sages          float64\n",
      " 2   Reference document          float64\n",
      " 3   1 Articles CGI              float64\n",
      " 4   2 Articles CGI              float64\n",
      " 5   3 Articles CGI              float64\n",
      " 6   4 Articles CGI              float64\n",
      " 7   5 Articles CGI              float64\n",
      " 8   No disposition              int64  \n",
      " 9   Date mutation               object \n",
      " 10  Nature mutation             object \n",
      " 11  Valeur fonciere             object \n",
      " 12  No voie                     float64\n",
      " 13  B/T/Q                       object \n",
      " 14  Type de voie                object \n",
      " 15  Code voie                   object \n",
      " 16  Voie                        object \n",
      " 17  Code postal                 float64\n",
      " 18  Commune                     object \n",
      " 19  Code departement            object \n",
      " 20  Code commune                int64  \n",
      " 21  Prefixe de section          float64\n",
      " 22  Section                     object \n",
      " 23  No plan                     int64  \n",
      " 24  No Volume                   object \n",
      " 25  1er lot                     object \n",
      " 26  Surface Carrez du 1er lot   object \n",
      " 27  2eme lot                    object \n",
      " 28  Surface Carrez du 2eme lot  object \n",
      " 29  3eme lot                    object \n",
      " 30  Surface Carrez du 3eme lot  object \n",
      " 31  4eme lot                    object \n",
      " 32  Surface Carrez du 4eme lot  object \n",
      " 33  5eme lot                    object \n",
      " 34  Surface Carrez du 5eme lot  object \n",
      " 35  Nombre de lots              int64  \n",
      " 36  Code type local             float64\n",
      " 37  Type local                  object \n",
      " 38  Identifiant local           float64\n",
      " 39  Surface reelle bati         float64\n",
      " 40  Nombre pieces principales   float64\n",
      " 41  Nature culture              object \n",
      " 42  Nature culture speciale     object \n",
      " 43  Surface terrain             float64\n",
      "dtypes: float64(15), int64(5), object(24)\n",
      "memory usage: 5.9+ GB\n"
     ]
    }
   ],
   "source": [
    "df.info()"
   ]
  },
  {
   "cell_type": "code",
   "execution_count": 5,
   "metadata": {},
   "outputs": [
    {
     "data": {
      "text/plain": [
       "array(['S', nan, 'AB', 'AG', 'T', 'P', 'BS', 'J', 'VI', 'CA', 'L', 'BT',\n",
       "       'BP', 'E', 'VE', 'BR', 'BM', 'PA', 'BF', 'CH', 'B', 'PP', 'PC',\n",
       "       'BO', 'TP', 'LB', 'PH', 'PE'], dtype=object)"
      ]
     },
     "execution_count": 5,
     "metadata": {},
     "output_type": "execute_result"
    }
   ],
   "source": [
    "df['Nature culture'].unique()"
   ]
  },
  {
   "cell_type": "code",
   "execution_count": 6,
   "metadata": {},
   "outputs": [
    {
     "data": {
      "text/plain": [
       "array(['Maison', 'Dépendance', 'Appartement', nan,\n",
       "       'Local industriel. commercial ou assimilé'], dtype=object)"
      ]
     },
     "execution_count": 6,
     "metadata": {},
     "output_type": "execute_result"
    }
   ],
   "source": [
    "df['Type local'].unique()"
   ]
  },
  {
   "cell_type": "code",
   "execution_count": 7,
   "metadata": {},
   "outputs": [
    {
     "data": {
      "text/plain": [
       "array(['Vente', 'Vente terrain à bâtir', 'Echange',\n",
       "       \"Vente en l'état futur d'achèvement\", 'Adjudication',\n",
       "       'Expropriation'], dtype=object)"
      ]
     },
     "execution_count": 7,
     "metadata": {},
     "output_type": "execute_result"
    }
   ],
   "source": [
    "df['Nature mutation'].unique()"
   ]
  },
  {
   "cell_type": "code",
   "execution_count": 8,
   "metadata": {},
   "outputs": [
    {
     "data": {
      "text/plain": [
       "array([1, 2, 3, 4, 5, 6, 7, 8, 9, 10, 11, 12, 13, 14, 15, 16, 17, 18, 19,\n",
       "       21, 22, 23, 24, 25, 26, 27, 28, 29, '29', '2A', '2B', '30', 30, 31,\n",
       "       32, 33, 34, 35, 36, 37, 38, 39, 40, 41, 42, 43, 44, 45, 46, 47, 48,\n",
       "       49, 50, 51, 52, 53, 54, 55, 56, 58, 59, 60, 61, 62, 63, 64, 65, 66,\n",
       "       69, 70, 71, 72, 73, 74, 76, 77, 78, 79, 80, 81, 82, 83, 84, 85, 86,\n",
       "       87, 88, 89, 90, 91, 92, 93, 94, 95, 971, 972, 973, 974, 75],\n",
       "      dtype=object)"
      ]
     },
     "execution_count": 8,
     "metadata": {},
     "output_type": "execute_result"
    }
   ],
   "source": [
    "df['Code departement'].unique()"
   ]
  },
  {
   "cell_type": "markdown",
   "metadata": {},
   "source": [
    "### PIPE"
   ]
  },
  {
   "cell_type": "code",
   "execution_count": 9,
   "metadata": {},
   "outputs": [],
   "source": [
    "df['Date mutation'] = pd.to_datetime(df['Date mutation'], dayfirst=True)\n",
    "df['annee'] = df['Date mutation'].dt.year"
   ]
  },
  {
   "cell_type": "code",
   "execution_count": 10,
   "metadata": {},
   "outputs": [],
   "source": [
    "#Adresse:\n",
    "my_address_variable = ['No voie', 'B/T/Q', 'Voie', 'Commune', 'Code postal']\n",
    "df = df[~df['Code postal'].isna()]\n",
    "df = df[~df['Commune'].isna()]\n",
    "df = df[~df['Voie'].isna()]\n",
    "\n",
    "df['Code département'] = df['Code departement'].astype('str')\n",
    "df['Code postal'] = df['Code postal'].astype('int')\n",
    "df['No voie'] = df['No voie'].astype('str')\n",
    "\n",
    "df['Code postal'] = df['Code postal'].apply(lambda x: '0'+str(x) if len(str(x))<5 else x)\n",
    "df['Code departement'] = df['Code departement'].apply(lambda x: '0'+str(x) if len(str(x))<2 else x)\n",
    "\n",
    "df['Adresse'] = df[my_address_variable].astype('str').apply(' '.join, axis=1)"
   ]
  },
  {
   "cell_type": "code",
   "execution_count": 11,
   "metadata": {},
   "outputs": [],
   "source": [
    "#df['Adresse'].replace('.0', '', inplace=True, regex=True)\n",
    "df['Adresse'].replace('nan', '', inplace=True, regex=True)\n",
    "df['Adresse'].replace('  ', ' ', inplace=True, regex=True)"
   ]
  },
  {
   "cell_type": "code",
   "execution_count": 12,
   "metadata": {},
   "outputs": [],
   "source": [
    "df['Valeur fonciere'] = df['Valeur fonciere'].str.replace(',', '.').astype('float')"
   ]
  },
  {
   "cell_type": "code",
   "execution_count": 13,
   "metadata": {},
   "outputs": [],
   "source": [
    "df = df[df['Nature mutation'].isin(['Vente', 'Vente terrain à bâtir', \"Vente en l'état futur d'achèvement\", \"Adjudication\"])]"
   ]
  },
  {
   "cell_type": "code",
   "execution_count": 14,
   "metadata": {},
   "outputs": [],
   "source": [
    "df = df[~df['Type local'].isin(['971', '972', '973', '974'])]"
   ]
  },
  {
   "cell_type": "code",
   "execution_count": 15,
   "metadata": {},
   "outputs": [],
   "source": [
    "#Suppression des 'dépendances' car elles font l'objet d'une mutation indépendantes et apportent peu au futur modèle\n",
    "df = df[df['Type local'].isin([\"Maison\", \"Appartement\", \"Local industriel. commercial ou assimilé\"])]"
   ]
  },
  {
   "cell_type": "code",
   "execution_count": 16,
   "metadata": {},
   "outputs": [],
   "source": [
    "my_variables = ['Date mutation', 'Nature mutation', 'Valeur fonciere', 'Type de voie', 'Code departement', 'Surface reelle bati', 'Type local', 'Nombre pieces principales', 'Surface terrain', 'Nombre de lots', 'Section', 'No plan', 'Adresse']\n",
    "#my_index = ['Commune', 'Voie', 'Type de voie', 'No voie', 'B/T/Q', 'Section', 'No plan', 'Date mutation', 'Code departement']\n",
    "my_index = ['Adresse', 'Section', 'No plan', 'Date mutation', 'Nature mutation']\n",
    "\n",
    "my_category = ['Nature mutation', 'Code departement', 'Type local', 'annee']\n",
    "my_dates = ['Date mutation']\n",
    "my_values = ['Valeur fonciere', 'Surface reelle bati', 'Nombre pieces principales', 'Surface terrain', 'Nombre de lots']"
   ]
  },
  {
   "cell_type": "code",
   "execution_count": 17,
   "metadata": {},
   "outputs": [],
   "source": [
    "#filtre selection variables\n",
    "df = df[my_variables]"
   ]
  },
  {
   "cell_type": "code",
   "execution_count": 18,
   "metadata": {},
   "outputs": [],
   "source": [
    "df['No plan'] = df['No plan'].astype('str')"
   ]
  },
  {
   "cell_type": "code",
   "execution_count": 20,
   "metadata": {},
   "outputs": [],
   "source": [
    "#df = df.drop_duplicates(subset=my_index)"
   ]
  },
  {
   "cell_type": "code",
   "execution_count": 22,
   "metadata": {},
   "outputs": [
    {
     "name": "stdout",
     "output_type": "stream",
     "text": [
      "<class 'pandas.core.frame.DataFrame'>\n",
      "Int64Index: 5270934 entries, 0 to 18036811\n",
      "Data columns (total 13 columns):\n",
      " #   Column                     Dtype         \n",
      "---  ------                     -----         \n",
      " 0   Date mutation              datetime64[ns]\n",
      " 1   Nature mutation            object        \n",
      " 2   Valeur fonciere            float64       \n",
      " 3   Type de voie               object        \n",
      " 4   Code departement           object        \n",
      " 5   Surface reelle bati        float64       \n",
      " 6   Type local                 object        \n",
      " 7   Nombre pieces principales  float64       \n",
      " 8   Surface terrain            float64       \n",
      " 9   Nombre de lots             int64         \n",
      " 10  Section                    object        \n",
      " 11  No plan                    object        \n",
      " 12  Adresse                    object        \n",
      "dtypes: datetime64[ns](1), float64(4), int64(1), object(7)\n",
      "memory usage: 563.0+ MB\n"
     ]
    }
   ],
   "source": [
    "df.info()"
   ]
  },
  {
   "cell_type": "code",
   "execution_count": 23,
   "metadata": {},
   "outputs": [],
   "source": [
    "df = df.dropna(subset=my_values)"
   ]
  },
  {
   "cell_type": "code",
   "execution_count": 24,
   "metadata": {},
   "outputs": [],
   "source": [
    "df.columns = df.columns.str.replace(\" \", \"_\")"
   ]
  },
  {
   "cell_type": "code",
   "execution_count": 25,
   "metadata": {},
   "outputs": [
    {
     "data": {
      "text/html": [
       "<div>\n",
       "<style scoped>\n",
       "    .dataframe tbody tr th:only-of-type {\n",
       "        vertical-align: middle;\n",
       "    }\n",
       "\n",
       "    .dataframe tbody tr th {\n",
       "        vertical-align: top;\n",
       "    }\n",
       "\n",
       "    .dataframe thead th {\n",
       "        text-align: right;\n",
       "    }\n",
       "</style>\n",
       "<table border=\"1\" class=\"dataframe\">\n",
       "  <thead>\n",
       "    <tr style=\"text-align: right;\">\n",
       "      <th></th>\n",
       "      <th>index</th>\n",
       "      <th>Date_mutation</th>\n",
       "      <th>Nature_mutation</th>\n",
       "      <th>Valeur_fonciere</th>\n",
       "      <th>Type_de_voie</th>\n",
       "      <th>Code_departement</th>\n",
       "      <th>Surface_reelle_bati</th>\n",
       "      <th>Type_local</th>\n",
       "      <th>Nombre_pieces_principales</th>\n",
       "      <th>Surface_terrain</th>\n",
       "      <th>Nombre_de_lots</th>\n",
       "      <th>Section</th>\n",
       "      <th>No_plan</th>\n",
       "      <th>Adresse</th>\n",
       "    </tr>\n",
       "  </thead>\n",
       "  <tbody>\n",
       "    <tr>\n",
       "      <th>0</th>\n",
       "      <td>0</td>\n",
       "      <td>2017-07-04</td>\n",
       "      <td>Vente</td>\n",
       "      <td>166100.0</td>\n",
       "      <td>RUE</td>\n",
       "      <td>01</td>\n",
       "      <td>73.0</td>\n",
       "      <td>Maison</td>\n",
       "      <td>4.0</td>\n",
       "      <td>391.0</td>\n",
       "      <td>0</td>\n",
       "      <td>AK</td>\n",
       "      <td>534</td>\n",
       "      <td>843.0 DE LA CHARPINE SAINT-DENIS-LES-BOURG 01000</td>\n",
       "    </tr>\n",
       "    <tr>\n",
       "      <th>1</th>\n",
       "      <td>5</td>\n",
       "      <td>2017-07-06</td>\n",
       "      <td>Vente</td>\n",
       "      <td>130000.0</td>\n",
       "      <td>NaN</td>\n",
       "      <td>01</td>\n",
       "      <td>96.0</td>\n",
       "      <td>Maison</td>\n",
       "      <td>2.0</td>\n",
       "      <td>471.0</td>\n",
       "      <td>0</td>\n",
       "      <td>D</td>\n",
       "      <td>4184</td>\n",
       "      <td>5123.0 HAMEAU DU CREUX EST REPLONGES 01750</td>\n",
       "    </tr>\n",
       "    <tr>\n",
       "      <th>2</th>\n",
       "      <td>6</td>\n",
       "      <td>2017-07-03</td>\n",
       "      <td>Vente</td>\n",
       "      <td>145650.0</td>\n",
       "      <td>RUE</td>\n",
       "      <td>01</td>\n",
       "      <td>72.0</td>\n",
       "      <td>Appartement</td>\n",
       "      <td>3.0</td>\n",
       "      <td>165.0</td>\n",
       "      <td>0</td>\n",
       "      <td>AP</td>\n",
       "      <td>316</td>\n",
       "      <td>3.0 B DE LA PREVOYANCE BOURG-EN-BRESSE 01000</td>\n",
       "    </tr>\n",
       "    <tr>\n",
       "      <th>3</th>\n",
       "      <td>7</td>\n",
       "      <td>2017-07-03</td>\n",
       "      <td>Vente</td>\n",
       "      <td>80000.0</td>\n",
       "      <td>NaN</td>\n",
       "      <td>01</td>\n",
       "      <td>200.0</td>\n",
       "      <td>Maison</td>\n",
       "      <td>6.0</td>\n",
       "      <td>731.0</td>\n",
       "      <td>0</td>\n",
       "      <td>B</td>\n",
       "      <td>1110</td>\n",
       "      <td>5236.0 LE BOURG SAINT-JEAN-SUR-REYSSOUZE 01560</td>\n",
       "    </tr>\n",
       "    <tr>\n",
       "      <th>4</th>\n",
       "      <td>10</td>\n",
       "      <td>2017-07-03</td>\n",
       "      <td>Vente</td>\n",
       "      <td>316500.0</td>\n",
       "      <td>NaN</td>\n",
       "      <td>01</td>\n",
       "      <td>115.0</td>\n",
       "      <td>Maison</td>\n",
       "      <td>5.0</td>\n",
       "      <td>956.0</td>\n",
       "      <td>0</td>\n",
       "      <td>H</td>\n",
       "      <td>991</td>\n",
       "      <td>5943.0 LA FORET BAGE-LA-VILLE 01380</td>\n",
       "    </tr>\n",
       "    <tr>\n",
       "      <th>...</th>\n",
       "      <td>...</td>\n",
       "      <td>...</td>\n",
       "      <td>...</td>\n",
       "      <td>...</td>\n",
       "      <td>...</td>\n",
       "      <td>...</td>\n",
       "      <td>...</td>\n",
       "      <td>...</td>\n",
       "      <td>...</td>\n",
       "      <td>...</td>\n",
       "      <td>...</td>\n",
       "      <td>...</td>\n",
       "      <td>...</td>\n",
       "      <td>...</td>\n",
       "    </tr>\n",
       "    <tr>\n",
       "      <th>2894262</th>\n",
       "      <td>18036668</td>\n",
       "      <td>2018-12-20</td>\n",
       "      <td>Vente</td>\n",
       "      <td>6800000.0</td>\n",
       "      <td>RUE</td>\n",
       "      <td>75</td>\n",
       "      <td>42.0</td>\n",
       "      <td>Appartement</td>\n",
       "      <td>3.0</td>\n",
       "      <td>265.0</td>\n",
       "      <td>0</td>\n",
       "      <td>AL</td>\n",
       "      <td>60</td>\n",
       "      <td>122.0 SAINT DENIS PARIS 02 75002</td>\n",
       "    </tr>\n",
       "    <tr>\n",
       "      <th>2894263</th>\n",
       "      <td>18036712</td>\n",
       "      <td>2018-12-21</td>\n",
       "      <td>Vente</td>\n",
       "      <td>33000000.0</td>\n",
       "      <td>PL</td>\n",
       "      <td>75</td>\n",
       "      <td>53.0</td>\n",
       "      <td>Appartement</td>\n",
       "      <td>2.0</td>\n",
       "      <td>761.0</td>\n",
       "      <td>0</td>\n",
       "      <td>AO</td>\n",
       "      <td>6</td>\n",
       "      <td>11.0 DES VOSGES PARIS 04 75004</td>\n",
       "    </tr>\n",
       "    <tr>\n",
       "      <th>2894264</th>\n",
       "      <td>18036766</td>\n",
       "      <td>2018-12-19</td>\n",
       "      <td>Vente</td>\n",
       "      <td>4026000.0</td>\n",
       "      <td>RUE</td>\n",
       "      <td>75</td>\n",
       "      <td>28.0</td>\n",
       "      <td>Local industriel. commercial ou assimilé</td>\n",
       "      <td>0.0</td>\n",
       "      <td>158.0</td>\n",
       "      <td>0</td>\n",
       "      <td>AO</td>\n",
       "      <td>172</td>\n",
       "      <td>111.0 D ABOUKIR PARIS 02 75002</td>\n",
       "    </tr>\n",
       "    <tr>\n",
       "      <th>2894265</th>\n",
       "      <td>18036776</td>\n",
       "      <td>2018-12-21</td>\n",
       "      <td>Vente</td>\n",
       "      <td>5500000.0</td>\n",
       "      <td>RUE</td>\n",
       "      <td>75</td>\n",
       "      <td>498.0</td>\n",
       "      <td>Local industriel. commercial ou assimilé</td>\n",
       "      <td>0.0</td>\n",
       "      <td>109.0</td>\n",
       "      <td>0</td>\n",
       "      <td>AL</td>\n",
       "      <td>122</td>\n",
       "      <td>48.0 MONTORGUEIL PARIS 02 75002</td>\n",
       "    </tr>\n",
       "    <tr>\n",
       "      <th>2894266</th>\n",
       "      <td>18036788</td>\n",
       "      <td>2018-12-21</td>\n",
       "      <td>Vente</td>\n",
       "      <td>1500000.0</td>\n",
       "      <td>RUE</td>\n",
       "      <td>75</td>\n",
       "      <td>485.0</td>\n",
       "      <td>Local industriel. commercial ou assimilé</td>\n",
       "      <td>0.0</td>\n",
       "      <td>152.0</td>\n",
       "      <td>0</td>\n",
       "      <td>AO</td>\n",
       "      <td>145</td>\n",
       "      <td>141.0 D ABOUKIR PARIS 02 75002</td>\n",
       "    </tr>\n",
       "  </tbody>\n",
       "</table>\n",
       "<p>2894267 rows × 14 columns</p>\n",
       "</div>"
      ],
      "text/plain": [
       "            index Date_mutation Nature_mutation  Valeur_fonciere Type_de_voie  \\\n",
       "0               0    2017-07-04           Vente         166100.0          RUE   \n",
       "1               5    2017-07-06           Vente         130000.0          NaN   \n",
       "2               6    2017-07-03           Vente         145650.0          RUE   \n",
       "3               7    2017-07-03           Vente          80000.0          NaN   \n",
       "4              10    2017-07-03           Vente         316500.0          NaN   \n",
       "...           ...           ...             ...              ...          ...   \n",
       "2894262  18036668    2018-12-20           Vente        6800000.0          RUE   \n",
       "2894263  18036712    2018-12-21           Vente       33000000.0           PL   \n",
       "2894264  18036766    2018-12-19           Vente        4026000.0          RUE   \n",
       "2894265  18036776    2018-12-21           Vente        5500000.0          RUE   \n",
       "2894266  18036788    2018-12-21           Vente        1500000.0          RUE   \n",
       "\n",
       "        Code_departement  Surface_reelle_bati  \\\n",
       "0                     01                 73.0   \n",
       "1                     01                 96.0   \n",
       "2                     01                 72.0   \n",
       "3                     01                200.0   \n",
       "4                     01                115.0   \n",
       "...                  ...                  ...   \n",
       "2894262               75                 42.0   \n",
       "2894263               75                 53.0   \n",
       "2894264               75                 28.0   \n",
       "2894265               75                498.0   \n",
       "2894266               75                485.0   \n",
       "\n",
       "                                       Type_local  Nombre_pieces_principales  \\\n",
       "0                                          Maison                        4.0   \n",
       "1                                          Maison                        2.0   \n",
       "2                                     Appartement                        3.0   \n",
       "3                                          Maison                        6.0   \n",
       "4                                          Maison                        5.0   \n",
       "...                                           ...                        ...   \n",
       "2894262                               Appartement                        3.0   \n",
       "2894263                               Appartement                        2.0   \n",
       "2894264  Local industriel. commercial ou assimilé                        0.0   \n",
       "2894265  Local industriel. commercial ou assimilé                        0.0   \n",
       "2894266  Local industriel. commercial ou assimilé                        0.0   \n",
       "\n",
       "         Surface_terrain  Nombre_de_lots Section No_plan  \\\n",
       "0                  391.0               0      AK     534   \n",
       "1                  471.0               0       D    4184   \n",
       "2                  165.0               0      AP     316   \n",
       "3                  731.0               0       B    1110   \n",
       "4                  956.0               0       H     991   \n",
       "...                  ...             ...     ...     ...   \n",
       "2894262            265.0               0      AL      60   \n",
       "2894263            761.0               0      AO       6   \n",
       "2894264            158.0               0      AO     172   \n",
       "2894265            109.0               0      AL     122   \n",
       "2894266            152.0               0      AO     145   \n",
       "\n",
       "                                                  Adresse  \n",
       "0        843.0 DE LA CHARPINE SAINT-DENIS-LES-BOURG 01000  \n",
       "1              5123.0 HAMEAU DU CREUX EST REPLONGES 01750  \n",
       "2            3.0 B DE LA PREVOYANCE BOURG-EN-BRESSE 01000  \n",
       "3          5236.0 LE BOURG SAINT-JEAN-SUR-REYSSOUZE 01560  \n",
       "4                     5943.0 LA FORET BAGE-LA-VILLE 01380  \n",
       "...                                                   ...  \n",
       "2894262                  122.0 SAINT DENIS PARIS 02 75002  \n",
       "2894263                    11.0 DES VOSGES PARIS 04 75004  \n",
       "2894264                    111.0 D ABOUKIR PARIS 02 75002  \n",
       "2894265                   48.0 MONTORGUEIL PARIS 02 75002  \n",
       "2894266                    141.0 D ABOUKIR PARIS 02 75002  \n",
       "\n",
       "[2894267 rows x 14 columns]"
      ]
     },
     "execution_count": 25,
     "metadata": {},
     "output_type": "execute_result"
    }
   ],
   "source": [
    "df = df.reset_index()"
   ]
  },
  {
   "cell_type": "code",
   "execution_count": null,
   "metadata": {},
   "outputs": [],
   "source": []
  }
 ],
 "metadata": {
  "kernelspec": {
   "display_name": "Python 3.9.7 ('Working')",
   "language": "python",
   "name": "python3"
  },
  "language_info": {
   "codemirror_mode": {
    "name": "ipython",
    "version": 3
   },
   "file_extension": ".py",
   "mimetype": "text/x-python",
   "name": "python",
   "nbconvert_exporter": "python",
   "pygments_lexer": "ipython3",
   "version": "3.9.7"
  },
  "orig_nbformat": 4,
  "vscode": {
   "interpreter": {
    "hash": "25e97ffa465575ae9d7595ac33541c23852d5aa3b29e62f9ba28d6f3cf7bcc87"
   }
  }
 },
 "nbformat": 4,
 "nbformat_minor": 2
}
